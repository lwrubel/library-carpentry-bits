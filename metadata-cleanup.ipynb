{
 "cells": [
  {
   "cell_type": "markdown",
   "metadata": {},
   "source": [
    "# Reading and writing CSV files, using regular expressions to validate data"
   ]
  },
  {
   "cell_type": "code",
   "execution_count": 102,
   "metadata": {},
   "outputs": [],
   "source": [
    "import csv\n",
    "import requests\n",
    "import os\n",
    "import re"
   ]
  },
  {
   "cell_type": "markdown",
   "metadata": {},
   "source": [
    "We're going to work with a data file that has some item information from a serial. (Show file in Google Sheets)\n",
    "\n",
    "Let's get the file using the python requests module. \n",
    "\n",
    "We will also use a method called `open()` to write a file. "
   ]
  },
  {
   "cell_type": "code",
   "execution_count": 217,
   "metadata": {},
   "outputs": [],
   "source": [
    "url = \"https://go.gwu.edu/serials\"\n",
    "r = requests.get(url)\n",
    "with open(\"serials-before.csv\", \"wb\") as myfile:\n",
    "    myfile.write(r.content)"
   ]
  },
  {
   "cell_type": "code",
   "execution_count": 218,
   "metadata": {
    "scrolled": true
   },
   "outputs": [
    {
     "data": {
      "text/plain": [
       "['.DS_Store',\n",
       " 'pandas-options.ipynb',\n",
       " 'messing_around.ipynb',\n",
       " 'serials-after-cleaned.csv',\n",
       " 'metadata-cleanup.ipynb',\n",
       " 'lcwa_gov_pdf_metadata.csv',\n",
       " '.ipynb_checkpoints',\n",
       " 'lc-python-intro',\n",
       " 'serials-before.csv']"
      ]
     },
     "execution_count": 218,
     "metadata": {},
     "output_type": "execute_result"
    }
   ],
   "source": [
    "os.listdir()"
   ]
  },
  {
   "cell_type": "markdown",
   "metadata": {},
   "source": [
    "Can also go to the Jupyter Home tab and see/view the file there. \n",
    "\n",
    "Let's use Python to open the CSV file and look at each row:"
   ]
  },
  {
   "cell_type": "code",
   "execution_count": 221,
   "metadata": {},
   "outputs": [
    {
     "ename": "SyntaxError",
     "evalue": "unexpected EOF while parsing (<ipython-input-221-79ab9d832d84>, line 6)",
     "output_type": "error",
     "traceback": [
      "\u001b[0;36m  File \u001b[0;32m\"<ipython-input-221-79ab9d832d84>\"\u001b[0;36m, line \u001b[0;32m6\u001b[0m\n\u001b[0;31m    \u001b[0m\n\u001b[0m    ^\u001b[0m\n\u001b[0;31mSyntaxError\u001b[0m\u001b[0;31m:\u001b[0m unexpected EOF while parsing\n"
     ]
    }
   ],
   "source": [
    "with open(\"serials-before.csv\", newline=\"\") as csvfile:\n",
    "    reader = csv.reader(csvfile)\n",
    "    # like a list, reader object is iterable\n",
    "    for row in reader:\n",
    "        #print(row)\n",
    "    "
   ]
  },
  {
   "attachments": {},
   "cell_type": "markdown",
   "metadata": {},
   "source": [
    "\n",
    "**Each row of the file is a list**, so we can change it and do things with it. \n",
    "\n",
    "Our goal is to populate the empty \"Note\" field with a statement that looks like:\n",
    "\n",
    "(write on the board)\n",
    "\n",
    "v.VOLUME, no.ISSUE (YEAR:season).\n",
    "\n",
    "`v.1, no.4 (1990:winter)`\n",
    "\n",
    "Let's create a note for just for one row, to get the hang of it. Then we'll come back to the file to do the whole thing. \n",
    "\n",
    "**Copy and paste** one of the rows, and assign to a variable we'll call sample."
   ]
  },
  {
   "cell_type": "code",
   "execution_count": 118,
   "metadata": {},
   "outputs": [],
   "source": [
    "sample = ['99169315803604107', 'gelman', 'grcmis', '27', '4', '2016', 'Winter', '32882022255767', '']"
   ]
  },
  {
   "cell_type": "markdown",
   "metadata": {},
   "source": [
    "Now, we need to put into a variable each of those elements we need to put into our note (volume, issue, etc)"
   ]
  },
  {
   "cell_type": "code",
   "execution_count": 119,
   "metadata": {},
   "outputs": [],
   "source": [
    "vol = sample[3]\n",
    "iss = sample[4]\n",
    "year = sample[5]\n",
    "season = sample[6]"
   ]
  },
  {
   "cell_type": "code",
   "execution_count": 120,
   "metadata": {},
   "outputs": [
    {
     "name": "stdout",
     "output_type": "stream",
     "text": [
      "v.27, no.4 (2016:winter)\n"
     ]
    }
   ],
   "source": [
    "note = \"v.{}, no.{} ({}:{})\".format(vol, iss, year, season.lower())\n",
    "print(note)"
   ]
  },
  {
   "cell_type": "markdown",
   "metadata": {},
   "source": [
    "Now we know how to create the note statement. \n",
    "\n",
    "We want to read each line in our CSV, formulate the note, and save our edited line so we can write it to another.\n",
    "\n",
    "We're going to use that Accumulator pattern we learned before. As we work on a row, we'll add it to the list. \n",
    "\n",
    "(We're doing that so we can then write that data to a new file later.)"
   ]
  },
  {
   "cell_type": "code",
   "execution_count": 171,
   "metadata": {},
   "outputs": [],
   "source": [
    "lines = []\n",
    "with open(\"serials-before.csv\", newline=\"\") as csvfile:\n",
    "    reader = csv.reader(csvfile)\n",
    "    # skip over the header\n",
    "    next(reader)\n",
    "    # like a list, reader object is iterable\n",
    "    for row in reader:\n",
    "        vol = row[3]\n",
    "        iss = row[4]\n",
    "        year = row[5]\n",
    "        season = row[6]\n",
    "        row[-1] = \"v.{}, no.{} ({}:{})\".format(vol, iss, year, season.lower())\n",
    "        lines.append(row)"
   ]
  },
  {
   "cell_type": "code",
   "execution_count": 122,
   "metadata": {},
   "outputs": [
    {
     "data": {
      "text/plain": [
       "101"
      ]
     },
     "execution_count": 122,
     "metadata": {},
     "output_type": "execute_result"
    }
   ],
   "source": [
    "len(lines)"
   ]
  },
  {
   "cell_type": "code",
   "execution_count": 123,
   "metadata": {},
   "outputs": [
    {
     "name": "stdout",
     "output_type": "stream",
     "text": [
      "['99169315803604107', 'gelman', 'grcmis', '1', '1', '1989', 'Spring', '32882022255379', 'v.1, no.1 (1989:spring)']\n"
     ]
    }
   ],
   "source": [
    "print(lines[0])"
   ]
  },
  {
   "cell_type": "markdown",
   "metadata": {},
   "source": [
    "Now we have the lines for our new file, let's **write it** to a new file. "
   ]
  },
  {
   "cell_type": "code",
   "execution_count": 124,
   "metadata": {},
   "outputs": [],
   "source": [
    "with open(\"serials-after.csv\", 'w', newline='') as outfile:\n",
    "    writer = csv.writer(outfile)\n",
    "    # create and write the header. Each line is a list:\n",
    "    header = ['MMS ID', 'Library', 'Location', 'Volume', 'Issue number', 'Year', 'Month', 'Barcode', 'Note']\n",
    "    writer.writerow(header)\n",
    "    for line in lines:\n",
    "        writer.writerow(line)"
   ]
  },
  {
   "cell_type": "markdown",
   "metadata": {},
   "source": [
    "Either use !head or open it up from the Jupyter Hub home page."
   ]
  },
  {
   "cell_type": "code",
   "execution_count": 215,
   "metadata": {},
   "outputs": [],
   "source": [
    "#!head serials-after.csv"
   ]
  },
  {
   "cell_type": "markdown",
   "metadata": {},
   "source": [
    "We worked with this data as if it were all OK. One thing we could do is check the data to see if there are errors in the data. Maybe we want to print a warning if there's a problem with the barcode for the item. \n",
    "\n",
    "Barcodes should be X characters long, all digits, and start with the same prefix each time. "
   ]
  },
  {
   "cell_type": "markdown",
   "metadata": {},
   "source": [
    "## A bit about regular expressions in python:\n",
    "\n",
    "Use the re library and the re.compile method.\n",
    "\n",
    "`re.compile()`\n",
    "\n",
    "Compiles a regular expression pattern into a regular expression object which can be used to match. We want to see if all of our barcodes start with the pattern 32882.\n"
   ]
  },
  {
   "cell_type": "code",
   "execution_count": 128,
   "metadata": {},
   "outputs": [],
   "source": [
    "bar_regex = re.compile(\"32882\")"
   ]
  },
  {
   "cell_type": "markdown",
   "metadata": {},
   "source": [
    "We can use the `match()` method on the regex object. Match by default starts at the beginning of the string. We don't need to specify that. "
   ]
  },
  {
   "cell_type": "code",
   "execution_count": 197,
   "metadata": {},
   "outputs": [
    {
     "name": "stdout",
     "output_type": "stream",
     "text": [
      "has barcode prefix\n"
     ]
    }
   ],
   "source": [
    "result = prefix_re.match(\"32882022255460\")\n",
    "\n",
    "if result:\n",
    "    print(\"has barcode prefix\")"
   ]
  },
  {
   "cell_type": "markdown",
   "metadata": {},
   "source": [
    "The `match()` method returns a match object if it works, and None if it does not exist. This allows us to use conditionals, based on whether something exists or is None. "
   ]
  },
  {
   "cell_type": "markdown",
   "metadata": {},
   "source": [
    "Are there exactly 14 digits in the barcode string?"
   ]
  },
  {
   "cell_type": "code",
   "execution_count": 207,
   "metadata": {},
   "outputs": [
    {
     "name": "stdout",
     "output_type": "stream",
     "text": [
      "has exactly 14 digits\n"
     ]
    }
   ],
   "source": [
    "numcheck = re.compile(\"\\d{14}$\")\n",
    "result_num = numcheck.match(\"32882022255460\")\n",
    "if result_num:\n",
    "    print(\"has exactly 14 digits\")\n",
    "else:\n",
    "    print(\"does not have exactly 14 digits\")"
   ]
  },
  {
   "cell_type": "markdown",
   "metadata": {},
   "source": [
    "Try editing the barcode to see if it fails. "
   ]
  },
  {
   "cell_type": "markdown",
   "metadata": {},
   "source": [
    "Copy our code from before so that we can then add some checks to the existing loop. We can check whether the barcode starts with the correct numbers and that the barcode is all digits.  "
   ]
  },
  {
   "cell_type": "code",
   "execution_count": 208,
   "metadata": {},
   "outputs": [
    {
     "name": "stdout",
     "output_type": "stream",
     "text": [
      "invalid barcode: 2882022255908\n",
      "invalid barcode: 2882022256401\n"
     ]
    }
   ],
   "source": [
    "lines = []\n",
    "\n",
    "# need to use newline parameter on opening a csvfile\n",
    "with open(\"serials-before.csv\", newline=\"\") as csvfile:\n",
    "    reader = csv.reader(csvfile)\n",
    "    # skip over the header\n",
    "    next(reader)\n",
    "    for row in reader:\n",
    "        # test that the barcode starts with 32882\n",
    "        barcode = row[7]\n",
    "        bar_test = re.compile(\"32882\")\n",
    "        bar_result = bar_test.match(barcode)\n",
    "        if bar_result:\n",
    "            vol = row[3]\n",
    "            iss = row[4]\n",
    "            year = row[5]\n",
    "            season = row[6]\n",
    "            row[-1] = \"v.{}, no.{} ({}:{})\".format(vol, iss, year, season.lower())\n",
    "            lines.append(row)\n",
    "        else:\n",
    "            print(\"invalid barcode: {}\".format(barcode))\n"
   ]
  },
  {
   "cell_type": "markdown",
   "metadata": {},
   "source": [
    "We know from before how to write a regular expression that checks that it is only 14 digits. \n",
    "\n",
    "### SLIDE: \n",
    "Write a function called **check_digits()** that will test whether a barcode is all digits, and returns True if it is, and False if not. Add it to the loop."
   ]
  },
  {
   "cell_type": "code",
   "execution_count": 201,
   "metadata": {},
   "outputs": [],
   "source": [
    "def check_digits(barcode):\n",
    "    numcheck = re.compile(\"^\\d{14}$\")\n",
    "    result_num = numcheck.match(barcode)\n",
    "    if result_num:\n",
    "        return True\n",
    "    else:\n",
    "        return False"
   ]
  },
  {
   "cell_type": "markdown",
   "metadata": {},
   "source": [
    "Once you have the function, add it to the loop. \n",
    "\n",
    "Hint: You only want the note to be created if both the bar_result and result of `check_digits()` are conditions that pass. \n",
    "Bonus: If you finish, make your error more informative by having the MMSID appear in the error message.\n",
    "\n",
    "\n",
    "If you finish, make your error more informative by having the MMSID appear in the error message. \n"
   ]
  },
  {
   "cell_type": "code",
   "execution_count": 209,
   "metadata": {},
   "outputs": [
    {
     "name": "stdout",
     "output_type": "stream",
     "text": [
      "invalid characters in barcode: 328820222563\n",
      "invalid barcode: 2882022255908\n",
      "invalid barcode: 2882022256401\n",
      "invalid characters in barcode: 3288202225543X\n",
      "invalid characters in barcode: 3288202225568X\n"
     ]
    }
   ],
   "source": [
    "lines = []\n",
    "with open(\"serials-before.csv\", newline=\"\") as csvfile:\n",
    "    reader = csv.reader(csvfile)\n",
    "    # skip over the header\n",
    "    next(reader)\n",
    "    for row in reader:\n",
    "        # test that the barcode starts with 32882\n",
    "        barcode = row[7]\n",
    "        bar_test = re.compile(\"32882\")\n",
    "        bar_result = bar_test.match(barcode)\n",
    "        \n",
    "        # test the length and characters in the barcode \n",
    "        num_result = check_digits(barcode)\n",
    "        \n",
    "        if bar_result and num_result:\n",
    "            if check_digits(barcode):   \n",
    "                vol = row[3]\n",
    "                iss = row[4]\n",
    "                year = row[5]\n",
    "                season = row[6]\n",
    "                row[-1] = \"v.{}, no.{} ({}:{})\".format(vol, iss, year, season.lower())\n",
    "                lines.append(row)\n",
    "        elif not bar_result:\n",
    "            print(\"invalid barcode: {}\".format(barcode))\n",
    "        elif not num_result:\n",
    "            print(\"invalid characters in barcode: {}\".format(barcode))"
   ]
  },
  {
   "cell_type": "markdown",
   "metadata": {},
   "source": [
    "## Write to csv\n",
    "\n",
    "Copy our code that we used earlier to write to a file. "
   ]
  },
  {
   "cell_type": "code",
   "execution_count": 210,
   "metadata": {},
   "outputs": [],
   "source": [
    "with open(\"serials-after-cleaned.csv\", 'w', newline='') as outfile:\n",
    "    writer = csv.writer(outfile)\n",
    "    # create and write the header. Each line is a list:\n",
    "    header = ['MMS ID', 'Library', 'Location', 'Volume', 'Issue number', 'Year', 'Month', 'Barcode', 'Note']\n",
    "    writer.writerow(header)\n",
    "    for line in lines:\n",
    "        writer.writerow(line)"
   ]
  },
  {
   "cell_type": "code",
   "execution_count": 211,
   "metadata": {},
   "outputs": [
    {
     "name": "stdout",
     "output_type": "stream",
     "text": [
      "MMS ID,Library,Location,Volume,Issue number,Year,Month,Barcode,Note\r",
      "\r\n",
      "99169315803604107,gelman,grcmis,1,1,1989,Spring,32882022255379,\"v.1, no.1 (1989:spring)\"\r",
      "\r\n",
      "99169315803604107,gelman,grcmis,1,2,1989,Summer,32882022255387,\"v.1, no.2 (1989:summer)\"\r",
      "\r\n",
      "99169315803604107,gelman,grcmis,1,3,1989,Autumn,32882022255635,\"v.1, no.3 (1989:autumn)\"\r",
      "\r\n",
      "99169315803604107,gelman,grcmis,1,4,1990,Winter,32882022255882,\"v.1, no.4 (1990:winter)\"\r",
      "\r\n",
      "99169315803604107,gelman,grcmis,2,1,1990,Spring,32882022256138,\"v.2, no.1 (1990:spring)\"\r",
      "\r\n",
      "99169315803604107,gelman,grcmis,2,3,1990,Autumn,32882022256393,\"v.2, no.3 (1990:autumn)\"\r",
      "\r\n",
      "99169315803604107,gelman,grcmis,2,4,1991,Winter,32882022256146,\"v.2, no.4 (1991:winter)\"\r",
      "\r\n",
      "99169315803604107,gelman,grcmis,3,1,1991,Spring,32882022255890,\"v.3, no.1 (1991:spring)\"\r",
      "\r\n",
      "99169315803604107,gelman,grcmis,3,2,1991,Summer,32882022255643,\"v.3, no.2 (1991:summer)\"\r",
      "\r\n"
     ]
    }
   ],
   "source": [
    "!head serials-after-cleaned.csv"
   ]
  },
  {
   "cell_type": "markdown",
   "metadata": {},
   "source": [
    "Note how the CSV writer was smart and put the issue statement in quotes. This makes sure that the comma doesn't cause a problem. "
   ]
  },
  {
   "cell_type": "markdown",
   "metadata": {},
   "source": [
    "## Wrap-up\n",
    "\n",
    "We learned to:\n",
    "+ Read in a CSV\n",
    "+ Use the csv libraries (also some exposure to requests)\n",
    "+ Use regular expressions on real data\n",
    "+ Clean the data and write out using .format()\n",
    "+ Write out a CSV file at the end. \n",
    "\n",
    "Next steps:\n",
    "+ learn about dictionaries\n",
    "+ use the loc.gov JSON API\n",
    "\n"
   ]
  },
  {
   "cell_type": "code",
   "execution_count": null,
   "metadata": {},
   "outputs": [],
   "source": []
  }
 ],
 "metadata": {
  "kernelspec": {
   "display_name": "Python 3",
   "language": "python",
   "name": "python3"
  },
  "language_info": {
   "codemirror_mode": {
    "name": "ipython",
    "version": 3
   },
   "file_extension": ".py",
   "mimetype": "text/x-python",
   "name": "python",
   "nbconvert_exporter": "python",
   "pygments_lexer": "ipython3",
   "version": "3.7.2"
  }
 },
 "nbformat": 4,
 "nbformat_minor": 2
}
